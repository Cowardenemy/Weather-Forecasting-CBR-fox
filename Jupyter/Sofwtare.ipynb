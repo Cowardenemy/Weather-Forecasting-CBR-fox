{
 "cells": [
  {
   "cell_type": "code",
   "execution_count": null,
   "metadata": {
    "collapsed": true
   },
   "outputs": [],
   "source": []
  },
  {
   "cell_type": "code",
   "execution_count": 1,
   "outputs": [],
   "source": [
    "import os\n",
    "import pandas as pd\n",
    "import numpy as np\n",
    "import math\n",
    "from scipy import signal\n",
    "import statsmodels.api as sm\n",
    "from statsmodels.nonparametric.smoothers_lowess import lowess\n",
    "import matplotlib.patches as mpatches\n",
    "import matplotlib.lines as mlines\n",
    "from matplotlib.legend_handler import HandlerLine2D\n",
    "from numpy import hstack\n",
    "from numpy import array\n",
    "from sklearn.model_selection import train_test_split\n",
    "from sklearn.metrics import mean_squared_error\n",
    "from sklearn.preprocessing import MinMaxScaler\n",
    "from keras.models import Sequential\n",
    "from keras.layers import Dense, LSTM, Dropout\n",
    "import matplotlib.pyplot as plt\n",
    "from sklearn.model_selection import TimeSeriesSplit"
   ],
   "metadata": {
    "collapsed": false,
    "ExecuteTime": {
     "start_time": "2023-05-25T12:59:37.410849Z",
     "end_time": "2023-05-25T13:02:24.899714Z"
    }
   }
  },
  {
   "cell_type": "code",
   "execution_count": 5,
   "outputs": [],
   "source": [
    "def split_sequences(sequences, n_steps):\n",
    "    inputnn, target = list(), list()\n",
    "    for i in range(len(sequences)):\n",
    "        end_ix = i + n_steps\n",
    "        if end_ix + 1 > len(sequences):\n",
    "            break\n",
    "        seq_x, seq_y = sequences[i:end_ix], sequences[end_ix, (1, 4, 7)]\n",
    "        inputnn.append(seq_x)\n",
    "        target.append(seq_y)\n",
    "    return array(inputnn), array(target)"
   ],
   "metadata": {
    "collapsed": false,
    "ExecuteTime": {
     "start_time": "2023-05-25T13:10:02.269681Z",
     "end_time": "2023-05-25T13:10:02.313563Z"
    }
   }
  },
  {
   "cell_type": "code",
   "execution_count": 6,
   "outputs": [],
   "source": [
    "data = pd.read_csv(\"D:\\drive\\GitHub\\Weather-Forecasting-CBR-fox\\Jupyter\\weatherdata.csv\", parse_dates=True, index_col=1)"
   ],
   "metadata": {
    "collapsed": false,
    "ExecuteTime": {
     "start_time": "2023-05-25T13:10:03.011698Z",
     "end_time": "2023-05-25T13:10:03.096469Z"
    }
   }
  },
  {
   "cell_type": "code",
   "execution_count": 7,
   "outputs": [],
   "source": [
    "\n",
    "step_days = 14\n",
    "dataset = data.filter(['HUM_MIN', 'HUM_AVG', 'HUM_MAX', 'PRES_MIN', 'PRES_AVG', 'PRES_MAX', 'TEMP_MIN',\n",
    "                       'TEMP_AVG', 'TEMP_MAX']).values\n",
    "dataset = np.array(dataset)\n",
    "global inputnn, target, input_train, input_test, target_test, target_train\n",
    "inputnn, target = split_sequences(dataset, step_days)\n",
    "input_train, input_test, target_train, target_test = train_test_split(inputnn, target, test_size=0.30,\n",
    "                                                                      random_state=4, shuffle=True)"
   ],
   "metadata": {
    "collapsed": false,
    "ExecuteTime": {
     "start_time": "2023-05-25T13:10:03.913286Z",
     "end_time": "2023-05-25T13:10:04.469797Z"
    }
   }
  },
  {
   "cell_type": "code",
   "execution_count": 30,
   "outputs": [
    {
     "data": {
      "text/plain": "                 DATE  TEMP_MAX  TEMP_MIN  TEMP_AVG   PRES_AVG   PRES_MAX  \\\nMONTH                                                                       \nSEPTEMBER  2018-09-20      35.7      25.4     30.55  32.591626  38.614177   \nSEPTEMBER  2018-09-21      36.1      22.8     29.45  31.281296  39.279497   \nSEPTEMBER  2018-09-22      34.6      22.5     28.55  30.900492  40.619541   \nSEPTEMBER  2018-09-23      35.4      22.8     29.10  31.062921  37.969306   \nSEPTEMBER  2018-09-24      34.1      24.3     29.20  32.708703  36.845954   \nSEPTEMBER  2018-09-25      35.2      24.6     29.90  33.605244  39.293133   \nSEPTEMBER  2018-09-26      35.7      24.8     30.25  33.215072  38.461184   \nSEPTEMBER  2018-09-27      34.5      24.7     29.60  33.329421  39.033815   \nSEPTEMBER  2018-09-28      35.7      24.3     30.00  32.920117  36.891677   \n\n            PRES_MIN    HUM_AVG     HUM_MAX    HUM_MIN  \nMONTH                                                   \nSEPTEMBER  26.835220  82.233120   95.020430  62.257429  \nSEPTEMBER  25.853157  88.026565   99.112176  64.164840  \nSEPTEMBER  25.448831  91.492863  100.000000  73.571847  \nSEPTEMBER  25.240974  88.465701  100.000000  47.150392  \nSEPTEMBER  29.972055  87.586614   98.296044  69.281344  \nSEPTEMBER  29.971286  85.807829   96.598891  66.220121  \nSEPTEMBER  30.121252  84.474650   95.796130  65.107947  \nSEPTEMBER  30.356106  87.932543   98.304236  71.282447  \nSEPTEMBER  29.971249  83.763597   96.606045  61.513092  ",
      "text/html": "<div>\n<style scoped>\n    .dataframe tbody tr th:only-of-type {\n        vertical-align: middle;\n    }\n\n    .dataframe tbody tr th {\n        vertical-align: top;\n    }\n\n    .dataframe thead th {\n        text-align: right;\n    }\n</style>\n<table border=\"1\" class=\"dataframe\">\n  <thead>\n    <tr style=\"text-align: right;\">\n      <th></th>\n      <th>DATE</th>\n      <th>TEMP_MAX</th>\n      <th>TEMP_MIN</th>\n      <th>TEMP_AVG</th>\n      <th>PRES_AVG</th>\n      <th>PRES_MAX</th>\n      <th>PRES_MIN</th>\n      <th>HUM_AVG</th>\n      <th>HUM_MAX</th>\n      <th>HUM_MIN</th>\n    </tr>\n    <tr>\n      <th>MONTH</th>\n      <th></th>\n      <th></th>\n      <th></th>\n      <th></th>\n      <th></th>\n      <th></th>\n      <th></th>\n      <th></th>\n      <th></th>\n      <th></th>\n    </tr>\n  </thead>\n  <tbody>\n    <tr>\n      <th>SEPTEMBER</th>\n      <td>2018-09-20</td>\n      <td>35.7</td>\n      <td>25.4</td>\n      <td>30.55</td>\n      <td>32.591626</td>\n      <td>38.614177</td>\n      <td>26.835220</td>\n      <td>82.233120</td>\n      <td>95.020430</td>\n      <td>62.257429</td>\n    </tr>\n    <tr>\n      <th>SEPTEMBER</th>\n      <td>2018-09-21</td>\n      <td>36.1</td>\n      <td>22.8</td>\n      <td>29.45</td>\n      <td>31.281296</td>\n      <td>39.279497</td>\n      <td>25.853157</td>\n      <td>88.026565</td>\n      <td>99.112176</td>\n      <td>64.164840</td>\n    </tr>\n    <tr>\n      <th>SEPTEMBER</th>\n      <td>2018-09-22</td>\n      <td>34.6</td>\n      <td>22.5</td>\n      <td>28.55</td>\n      <td>30.900492</td>\n      <td>40.619541</td>\n      <td>25.448831</td>\n      <td>91.492863</td>\n      <td>100.000000</td>\n      <td>73.571847</td>\n    </tr>\n    <tr>\n      <th>SEPTEMBER</th>\n      <td>2018-09-23</td>\n      <td>35.4</td>\n      <td>22.8</td>\n      <td>29.10</td>\n      <td>31.062921</td>\n      <td>37.969306</td>\n      <td>25.240974</td>\n      <td>88.465701</td>\n      <td>100.000000</td>\n      <td>47.150392</td>\n    </tr>\n    <tr>\n      <th>SEPTEMBER</th>\n      <td>2018-09-24</td>\n      <td>34.1</td>\n      <td>24.3</td>\n      <td>29.20</td>\n      <td>32.708703</td>\n      <td>36.845954</td>\n      <td>29.972055</td>\n      <td>87.586614</td>\n      <td>98.296044</td>\n      <td>69.281344</td>\n    </tr>\n    <tr>\n      <th>SEPTEMBER</th>\n      <td>2018-09-25</td>\n      <td>35.2</td>\n      <td>24.6</td>\n      <td>29.90</td>\n      <td>33.605244</td>\n      <td>39.293133</td>\n      <td>29.971286</td>\n      <td>85.807829</td>\n      <td>96.598891</td>\n      <td>66.220121</td>\n    </tr>\n    <tr>\n      <th>SEPTEMBER</th>\n      <td>2018-09-26</td>\n      <td>35.7</td>\n      <td>24.8</td>\n      <td>30.25</td>\n      <td>33.215072</td>\n      <td>38.461184</td>\n      <td>30.121252</td>\n      <td>84.474650</td>\n      <td>95.796130</td>\n      <td>65.107947</td>\n    </tr>\n    <tr>\n      <th>SEPTEMBER</th>\n      <td>2018-09-27</td>\n      <td>34.5</td>\n      <td>24.7</td>\n      <td>29.60</td>\n      <td>33.329421</td>\n      <td>39.033815</td>\n      <td>30.356106</td>\n      <td>87.932543</td>\n      <td>98.304236</td>\n      <td>71.282447</td>\n    </tr>\n    <tr>\n      <th>SEPTEMBER</th>\n      <td>2018-09-28</td>\n      <td>35.7</td>\n      <td>24.3</td>\n      <td>30.00</td>\n      <td>32.920117</td>\n      <td>36.891677</td>\n      <td>29.971249</td>\n      <td>83.763597</td>\n      <td>96.606045</td>\n      <td>61.513092</td>\n    </tr>\n  </tbody>\n</table>\n</div>"
     },
     "execution_count": 30,
     "metadata": {},
     "output_type": "execute_result"
    }
   ],
   "source": [
    "data.iloc[-10:-1]"
   ],
   "metadata": {
    "collapsed": false,
    "ExecuteTime": {
     "start_time": "2023-05-25T14:43:27.621791Z",
     "end_time": "2023-05-25T14:43:27.688581Z"
    }
   }
  },
  {
   "cell_type": "code",
   "execution_count": 33,
   "outputs": [
    {
     "data": {
      "text/plain": "6833"
     },
     "execution_count": 33,
     "metadata": {},
     "output_type": "execute_result"
    }
   ],
   "source": [
    "len(inputnn)"
   ],
   "metadata": {
    "collapsed": false,
    "ExecuteTime": {
     "start_time": "2023-05-25T14:47:40.258181Z",
     "end_time": "2023-05-25T14:47:40.319017Z"
    }
   }
  },
  {
   "cell_type": "code",
   "execution_count": 31,
   "outputs": [
    {
     "data": {
      "text/plain": "array([83.7635968 , 32.92011749, 30.        ])"
     },
     "execution_count": 31,
     "metadata": {},
     "output_type": "execute_result"
    }
   ],
   "source": [
    "target[-2]"
   ],
   "metadata": {
    "collapsed": false,
    "ExecuteTime": {
     "start_time": "2023-05-25T14:44:24.973596Z",
     "end_time": "2023-05-25T14:44:25.014325Z"
    }
   }
  },
  {
   "cell_type": "code",
   "execution_count": 8,
   "outputs": [
    {
     "name": "stdout",
     "output_type": "stream",
     "text": [
      "Epoch 1/100\n",
      "299/299 [==============================] - 24s 51ms/step - loss: 530.9299 - val_loss: 154.6960\n",
      "Epoch 2/100\n",
      "299/299 [==============================] - 9s 30ms/step - loss: 243.1216 - val_loss: 43.3502\n",
      "Epoch 3/100\n",
      "299/299 [==============================] - 13s 44ms/step - loss: 177.9677 - val_loss: 44.8741\n",
      "Epoch 4/100\n",
      "299/299 [==============================] - 12s 41ms/step - loss: 178.8959 - val_loss: 39.5763\n",
      "Epoch 5/100\n",
      "299/299 [==============================] - 9s 30ms/step - loss: 172.9922 - val_loss: 54.6773\n",
      "Epoch 6/100\n",
      "299/299 [==============================] - 9s 30ms/step - loss: 173.1874 - val_loss: 33.4999\n",
      "Epoch 7/100\n",
      "299/299 [==============================] - 12s 39ms/step - loss: 167.8678 - val_loss: 31.8213\n",
      "Epoch 8/100\n",
      "299/299 [==============================] - 9s 29ms/step - loss: 174.7144 - val_loss: 38.0754\n",
      "Epoch 9/100\n",
      "299/299 [==============================] - 7s 24ms/step - loss: 162.0110 - val_loss: 31.9713\n",
      "Epoch 10/100\n",
      "299/299 [==============================] - 9s 30ms/step - loss: 165.7117 - val_loss: 53.0003\n",
      "Epoch 11/100\n",
      "299/299 [==============================] - 10s 32ms/step - loss: 165.2353 - val_loss: 28.4908\n",
      "Epoch 12/100\n",
      "299/299 [==============================] - 11s 38ms/step - loss: 163.0187 - val_loss: 36.9693\n",
      "Epoch 13/100\n",
      "299/299 [==============================] - 13s 42ms/step - loss: 165.4937 - val_loss: 29.1578\n",
      "Epoch 14/100\n",
      "299/299 [==============================] - 10s 34ms/step - loss: 160.0392 - val_loss: 31.1184\n",
      "Epoch 15/100\n",
      "299/299 [==============================] - 9s 30ms/step - loss: 161.6398 - val_loss: 33.8398\n",
      "Epoch 16/100\n",
      "299/299 [==============================] - 7s 24ms/step - loss: 156.6229 - val_loss: 30.1449\n",
      "Epoch 17/100\n",
      "299/299 [==============================] - 8s 27ms/step - loss: 160.3169 - val_loss: 32.3980\n",
      "Epoch 18/100\n",
      "299/299 [==============================] - 7s 24ms/step - loss: 164.1584 - val_loss: 50.8831\n",
      "Epoch 19/100\n",
      "299/299 [==============================] - 8s 27ms/step - loss: 155.9207 - val_loss: 29.6291\n",
      "Epoch 20/100\n",
      "299/299 [==============================] - 11s 36ms/step - loss: 154.9045 - val_loss: 40.8035\n",
      "Epoch 21/100\n",
      "299/299 [==============================] - 12s 39ms/step - loss: 157.9629 - val_loss: 59.4775\n",
      "Epoch 22/100\n",
      "299/299 [==============================] - 8s 28ms/step - loss: 159.8867 - val_loss: 28.1476\n",
      "Epoch 23/100\n",
      "299/299 [==============================] - 10s 34ms/step - loss: 149.5232 - val_loss: 45.3542\n",
      "Epoch 24/100\n",
      "299/299 [==============================] - 10s 34ms/step - loss: 158.6347 - val_loss: 33.0055\n",
      "Epoch 25/100\n",
      "299/299 [==============================] - 9s 30ms/step - loss: 161.2467 - val_loss: 25.7089\n",
      "Epoch 26/100\n",
      "299/299 [==============================] - 11s 35ms/step - loss: 130.6998 - val_loss: 26.8743\n",
      "Epoch 27/100\n",
      "299/299 [==============================] - 8s 28ms/step - loss: 124.0751 - val_loss: 28.2040\n",
      "Epoch 28/100\n",
      "299/299 [==============================] - 10s 35ms/step - loss: 121.0908 - val_loss: 28.9693\n",
      "Epoch 29/100\n",
      "299/299 [==============================] - 12s 39ms/step - loss: 121.0593 - val_loss: 32.5549\n",
      "Epoch 30/100\n",
      "299/299 [==============================] - 13s 44ms/step - loss: 121.5667 - val_loss: 25.6585\n",
      "Epoch 31/100\n",
      "299/299 [==============================] - 12s 41ms/step - loss: 120.5096 - val_loss: 26.7339\n",
      "Epoch 32/100\n",
      "299/299 [==============================] - 12s 39ms/step - loss: 109.3579 - val_loss: 24.5114\n",
      "Epoch 33/100\n",
      "299/299 [==============================] - 10s 34ms/step - loss: 107.0543 - val_loss: 27.4021\n",
      "Epoch 34/100\n",
      "299/299 [==============================] - 9s 31ms/step - loss: 106.1941 - val_loss: 23.0512\n",
      "Epoch 35/100\n",
      "299/299 [==============================] - 11s 35ms/step - loss: 103.4995 - val_loss: 25.9794\n",
      "Epoch 36/100\n",
      "299/299 [==============================] - 10s 34ms/step - loss: 102.1000 - val_loss: 32.6564\n",
      "Epoch 37/100\n",
      "299/299 [==============================] - 9s 29ms/step - loss: 102.2879 - val_loss: 22.5105\n",
      "Epoch 38/100\n",
      "299/299 [==============================] - 9s 29ms/step - loss: 94.9942 - val_loss: 25.1748\n",
      "Epoch 39/100\n",
      "299/299 [==============================] - 10s 33ms/step - loss: 97.7781 - val_loss: 21.5477\n",
      "Epoch 40/100\n",
      "299/299 [==============================] - 11s 36ms/step - loss: 99.3696 - val_loss: 28.6954\n",
      "Epoch 41/100\n",
      "299/299 [==============================] - 10s 35ms/step - loss: 99.6797 - val_loss: 23.6515\n",
      "Epoch 42/100\n",
      "299/299 [==============================] - 10s 33ms/step - loss: 95.5685 - val_loss: 32.3859\n",
      "Epoch 43/100\n",
      "299/299 [==============================] - 9s 31ms/step - loss: 100.7217 - val_loss: 21.0608\n",
      "Epoch 44/100\n",
      "299/299 [==============================] - 8s 28ms/step - loss: 97.4298 - val_loss: 21.6472\n",
      "Epoch 45/100\n",
      "299/299 [==============================] - 8s 28ms/step - loss: 98.2297 - val_loss: 22.7866\n",
      "Epoch 46/100\n",
      "299/299 [==============================] - 8s 28ms/step - loss: 95.5448 - val_loss: 24.0916\n",
      "Epoch 47/100\n",
      "299/299 [==============================] - 8s 27ms/step - loss: 94.3078 - val_loss: 22.9018\n",
      "Epoch 48/100\n",
      "299/299 [==============================] - 8s 28ms/step - loss: 94.8207 - val_loss: 32.7594\n",
      "Epoch 49/100\n",
      "299/299 [==============================] - 8s 26ms/step - loss: 94.9246 - val_loss: 20.6035\n",
      "Epoch 50/100\n",
      "299/299 [==============================] - 8s 28ms/step - loss: 94.0902 - val_loss: 21.8163\n",
      "Epoch 51/100\n",
      "299/299 [==============================] - 9s 29ms/step - loss: 94.0959 - val_loss: 23.9513\n",
      "Epoch 52/100\n",
      "299/299 [==============================] - 8s 28ms/step - loss: 92.6401 - val_loss: 20.5960\n",
      "Epoch 53/100\n",
      "299/299 [==============================] - 9s 30ms/step - loss: 91.6130 - val_loss: 25.6488\n",
      "Epoch 54/100\n",
      "299/299 [==============================] - 9s 29ms/step - loss: 90.2613 - val_loss: 32.2943\n",
      "Epoch 55/100\n",
      "299/299 [==============================] - 8s 27ms/step - loss: 93.3435 - val_loss: 19.8593\n",
      "Epoch 56/100\n",
      "299/299 [==============================] - 8s 28ms/step - loss: 87.1592 - val_loss: 18.5812\n",
      "Epoch 57/100\n",
      "299/299 [==============================] - 9s 29ms/step - loss: 83.8625 - val_loss: 23.3076\n",
      "Epoch 58/100\n",
      "299/299 [==============================] - 8s 27ms/step - loss: 79.8605 - val_loss: 22.8941\n",
      "Epoch 59/100\n",
      "299/299 [==============================] - 8s 28ms/step - loss: 78.8468 - val_loss: 26.0138\n",
      "Epoch 60/100\n",
      "299/299 [==============================] - 9s 28ms/step - loss: 80.6901 - val_loss: 21.7484\n",
      "Epoch 61/100\n",
      "299/299 [==============================] - 9s 30ms/step - loss: 78.8370 - val_loss: 22.7096\n",
      "Epoch 62/100\n",
      "299/299 [==============================] - 8s 28ms/step - loss: 78.0514 - val_loss: 21.7294\n",
      "Epoch 63/100\n",
      "299/299 [==============================] - 8s 27ms/step - loss: 78.0744 - val_loss: 22.0139\n",
      "Epoch 64/100\n",
      "299/299 [==============================] - 8s 27ms/step - loss: 78.7510 - val_loss: 21.2369\n",
      "Epoch 65/100\n",
      "299/299 [==============================] - 8s 28ms/step - loss: 76.5212 - val_loss: 24.4806\n",
      "Epoch 66/100\n",
      "299/299 [==============================] - 9s 30ms/step - loss: 76.3106 - val_loss: 21.2648\n",
      "Epoch 67/100\n",
      "299/299 [==============================] - 8s 26ms/step - loss: 79.1201 - val_loss: 19.6153\n",
      "Epoch 68/100\n",
      "299/299 [==============================] - 7s 25ms/step - loss: 76.6366 - val_loss: 21.0284\n",
      "Epoch 69/100\n",
      "299/299 [==============================] - 8s 26ms/step - loss: 77.8675 - val_loss: 26.7624\n",
      "Epoch 70/100\n",
      "299/299 [==============================] - 8s 26ms/step - loss: 74.5009 - val_loss: 20.8431\n",
      "Epoch 71/100\n",
      "299/299 [==============================] - 8s 27ms/step - loss: 71.0312 - val_loss: 22.7871\n",
      "Epoch 72/100\n",
      "299/299 [==============================] - 8s 25ms/step - loss: 75.5873 - val_loss: 20.0727\n",
      "Epoch 73/100\n",
      "299/299 [==============================] - 8s 28ms/step - loss: 76.6093 - val_loss: 24.4967\n",
      "Epoch 74/100\n",
      "299/299 [==============================] - 11s 37ms/step - loss: 75.1697 - val_loss: 21.1479\n",
      "Epoch 75/100\n",
      "299/299 [==============================] - 9s 29ms/step - loss: 75.2710 - val_loss: 26.7987\n",
      "Epoch 76/100\n",
      "299/299 [==============================] - 9s 31ms/step - loss: 75.2212 - val_loss: 20.4790\n",
      "Epoch 77/100\n",
      "299/299 [==============================] - 9s 29ms/step - loss: 73.5810 - val_loss: 21.5268\n",
      "Epoch 78/100\n",
      "299/299 [==============================] - 8s 27ms/step - loss: 70.1790 - val_loss: 19.0067\n",
      "Epoch 79/100\n",
      "299/299 [==============================] - 8s 27ms/step - loss: 72.0602 - val_loss: 28.3020\n",
      "Epoch 80/100\n",
      "299/299 [==============================] - 9s 31ms/step - loss: 72.0114 - val_loss: 25.4096\n",
      "Epoch 81/100\n",
      "299/299 [==============================] - 8s 28ms/step - loss: 73.4174 - val_loss: 19.6439\n",
      "Epoch 82/100\n",
      "299/299 [==============================] - 8s 27ms/step - loss: 71.1882 - val_loss: 24.7318\n",
      "Epoch 83/100\n",
      "299/299 [==============================] - 8s 28ms/step - loss: 72.4217 - val_loss: 24.8578\n",
      "Epoch 84/100\n",
      "299/299 [==============================] - 8s 27ms/step - loss: 70.1979 - val_loss: 20.9710\n",
      "Epoch 85/100\n",
      "299/299 [==============================] - 8s 27ms/step - loss: 70.9457 - val_loss: 19.3628\n",
      "Epoch 86/100\n",
      "299/299 [==============================] - 9s 29ms/step - loss: 69.1116 - val_loss: 18.9367\n",
      "Epoch 87/100\n",
      "299/299 [==============================] - 9s 29ms/step - loss: 69.3176 - val_loss: 19.1166\n",
      "Epoch 88/100\n",
      "299/299 [==============================] - 8s 27ms/step - loss: 65.0944 - val_loss: 19.1148\n",
      "Epoch 89/100\n",
      "299/299 [==============================] - 9s 31ms/step - loss: 66.2817 - val_loss: 19.1719\n",
      "Epoch 90/100\n",
      "299/299 [==============================] - 8s 27ms/step - loss: 63.2755 - val_loss: 19.2536\n",
      "Epoch 91/100\n",
      "299/299 [==============================] - 8s 27ms/step - loss: 64.2420 - val_loss: 19.0609\n",
      "Epoch 92/100\n",
      "299/299 [==============================] - 7s 24ms/step - loss: 63.6939 - val_loss: 19.6897\n",
      "Epoch 93/100\n",
      "299/299 [==============================] - 8s 26ms/step - loss: 63.8213 - val_loss: 18.8173\n",
      "Epoch 94/100\n",
      "299/299 [==============================] - 7s 22ms/step - loss: 63.0229 - val_loss: 21.2130\n",
      "Epoch 95/100\n",
      "299/299 [==============================] - 10s 33ms/step - loss: 62.2011 - val_loss: 18.9060\n",
      "Epoch 96/100\n",
      "299/299 [==============================] - 9s 29ms/step - loss: 61.5502 - val_loss: 21.4625\n",
      "Epoch 97/100\n",
      "299/299 [==============================] - 9s 31ms/step - loss: 60.1250 - val_loss: 21.4581\n",
      "Epoch 98/100\n",
      "299/299 [==============================] - 9s 29ms/step - loss: 59.9291 - val_loss: 49.6049\n",
      "Epoch 99/100\n",
      "299/299 [==============================] - 8s 27ms/step - loss: 63.5791 - val_loss: 20.2824\n",
      "Epoch 100/100\n",
      "299/299 [==============================] - 7s 25ms/step - loss: 60.8502 - val_loss: 21.2689\n"
     ]
    }
   ],
   "source": [
    "model = Sequential()\n",
    "model.add(LSTM(100, activation='relu', return_sequences=True, input_shape=(step_days, input_train.shape[2])))\n",
    "model.add(LSTM(32, activation='relu', return_sequences=False))\n",
    "model.add(Dropout(0.2))\n",
    "model.add(Dense(3))\n",
    "model.compile(optimizer='adam', loss='mse')\n",
    "history = model.fit(input_train, target_train, validation_data=(input_test, target_test), batch_size=16, epochs=100)"
   ],
   "metadata": {
    "collapsed": false,
    "ExecuteTime": {
     "start_time": "2023-05-25T13:10:09.048991Z",
     "end_time": "2023-05-25T13:25:39.617816Z"
    }
   }
  },
  {
   "cell_type": "code",
   "execution_count": 17,
   "outputs": [
    {
     "data": {
      "text/plain": "                 DATE  TEMP_MAX  TEMP_MIN  TEMP_AVG   PRES_AVG   PRES_MAX  \\\nMONTH                                                                       \nJANUARY    2000-01-01      29.9      19.2     24.55  23.100000  25.300000   \nJANUARY    2000-01-02      31.6      21.0     26.30  24.900000  27.600000   \nJANUARY    2000-01-03      31.2      20.0     25.60  25.000000  29.300000   \nJANUARY    2000-01-04      30.8      18.8     24.80  24.500000  27.100000   \nJANUARY    2000-01-05      23.8      18.8     21.30  21.300000  23.200000   \n...               ...       ...       ...       ...        ...        ...   \nSEPTEMBER  2018-09-25      35.2      24.6     29.90  33.605244  39.293133   \nSEPTEMBER  2018-09-26      35.7      24.8     30.25  33.215072  38.461184   \nSEPTEMBER  2018-09-27      34.5      24.7     29.60  33.329421  39.033815   \nSEPTEMBER  2018-09-28      35.7      24.3     30.00  32.920117  36.891677   \nSEPTEMBER  2018-09-29      33.7      24.6     29.15  31.667352  36.651310   \n\n            PRES_MIN    HUM_AVG    HUM_MAX    HUM_MIN  \nMONTH                                                  \nJANUARY    18.500000  80.000000  96.000000  55.000000  \nJANUARY    23.200000  78.000000  93.000000  53.000000  \nJANUARY    23.300000  83.000000  99.000000  54.000000  \nJANUARY    22.800000  87.000000  99.000000  55.000000  \nJANUARY    19.200000  87.000000  96.000000  72.000000  \n...              ...        ...        ...        ...  \nSEPTEMBER  29.971286  85.807829  96.598891  66.220121  \nSEPTEMBER  30.121252  84.474650  95.796130  65.107947  \nSEPTEMBER  30.356106  87.932543  98.304236  71.282447  \nSEPTEMBER  29.971249  83.763597  96.606045  61.513092  \nSEPTEMBER  28.657002  86.900067  99.133233  67.998759  \n\n[6847 rows x 10 columns]",
      "text/html": "<div>\n<style scoped>\n    .dataframe tbody tr th:only-of-type {\n        vertical-align: middle;\n    }\n\n    .dataframe tbody tr th {\n        vertical-align: top;\n    }\n\n    .dataframe thead th {\n        text-align: right;\n    }\n</style>\n<table border=\"1\" class=\"dataframe\">\n  <thead>\n    <tr style=\"text-align: right;\">\n      <th></th>\n      <th>DATE</th>\n      <th>TEMP_MAX</th>\n      <th>TEMP_MIN</th>\n      <th>TEMP_AVG</th>\n      <th>PRES_AVG</th>\n      <th>PRES_MAX</th>\n      <th>PRES_MIN</th>\n      <th>HUM_AVG</th>\n      <th>HUM_MAX</th>\n      <th>HUM_MIN</th>\n    </tr>\n    <tr>\n      <th>MONTH</th>\n      <th></th>\n      <th></th>\n      <th></th>\n      <th></th>\n      <th></th>\n      <th></th>\n      <th></th>\n      <th></th>\n      <th></th>\n      <th></th>\n    </tr>\n  </thead>\n  <tbody>\n    <tr>\n      <th>JANUARY</th>\n      <td>2000-01-01</td>\n      <td>29.9</td>\n      <td>19.2</td>\n      <td>24.55</td>\n      <td>23.100000</td>\n      <td>25.300000</td>\n      <td>18.500000</td>\n      <td>80.000000</td>\n      <td>96.000000</td>\n      <td>55.000000</td>\n    </tr>\n    <tr>\n      <th>JANUARY</th>\n      <td>2000-01-02</td>\n      <td>31.6</td>\n      <td>21.0</td>\n      <td>26.30</td>\n      <td>24.900000</td>\n      <td>27.600000</td>\n      <td>23.200000</td>\n      <td>78.000000</td>\n      <td>93.000000</td>\n      <td>53.000000</td>\n    </tr>\n    <tr>\n      <th>JANUARY</th>\n      <td>2000-01-03</td>\n      <td>31.2</td>\n      <td>20.0</td>\n      <td>25.60</td>\n      <td>25.000000</td>\n      <td>29.300000</td>\n      <td>23.300000</td>\n      <td>83.000000</td>\n      <td>99.000000</td>\n      <td>54.000000</td>\n    </tr>\n    <tr>\n      <th>JANUARY</th>\n      <td>2000-01-04</td>\n      <td>30.8</td>\n      <td>18.8</td>\n      <td>24.80</td>\n      <td>24.500000</td>\n      <td>27.100000</td>\n      <td>22.800000</td>\n      <td>87.000000</td>\n      <td>99.000000</td>\n      <td>55.000000</td>\n    </tr>\n    <tr>\n      <th>JANUARY</th>\n      <td>2000-01-05</td>\n      <td>23.8</td>\n      <td>18.8</td>\n      <td>21.30</td>\n      <td>21.300000</td>\n      <td>23.200000</td>\n      <td>19.200000</td>\n      <td>87.000000</td>\n      <td>96.000000</td>\n      <td>72.000000</td>\n    </tr>\n    <tr>\n      <th>...</th>\n      <td>...</td>\n      <td>...</td>\n      <td>...</td>\n      <td>...</td>\n      <td>...</td>\n      <td>...</td>\n      <td>...</td>\n      <td>...</td>\n      <td>...</td>\n      <td>...</td>\n    </tr>\n    <tr>\n      <th>SEPTEMBER</th>\n      <td>2018-09-25</td>\n      <td>35.2</td>\n      <td>24.6</td>\n      <td>29.90</td>\n      <td>33.605244</td>\n      <td>39.293133</td>\n      <td>29.971286</td>\n      <td>85.807829</td>\n      <td>96.598891</td>\n      <td>66.220121</td>\n    </tr>\n    <tr>\n      <th>SEPTEMBER</th>\n      <td>2018-09-26</td>\n      <td>35.7</td>\n      <td>24.8</td>\n      <td>30.25</td>\n      <td>33.215072</td>\n      <td>38.461184</td>\n      <td>30.121252</td>\n      <td>84.474650</td>\n      <td>95.796130</td>\n      <td>65.107947</td>\n    </tr>\n    <tr>\n      <th>SEPTEMBER</th>\n      <td>2018-09-27</td>\n      <td>34.5</td>\n      <td>24.7</td>\n      <td>29.60</td>\n      <td>33.329421</td>\n      <td>39.033815</td>\n      <td>30.356106</td>\n      <td>87.932543</td>\n      <td>98.304236</td>\n      <td>71.282447</td>\n    </tr>\n    <tr>\n      <th>SEPTEMBER</th>\n      <td>2018-09-28</td>\n      <td>35.7</td>\n      <td>24.3</td>\n      <td>30.00</td>\n      <td>32.920117</td>\n      <td>36.891677</td>\n      <td>29.971249</td>\n      <td>83.763597</td>\n      <td>96.606045</td>\n      <td>61.513092</td>\n    </tr>\n    <tr>\n      <th>SEPTEMBER</th>\n      <td>2018-09-29</td>\n      <td>33.7</td>\n      <td>24.6</td>\n      <td>29.15</td>\n      <td>31.667352</td>\n      <td>36.651310</td>\n      <td>28.657002</td>\n      <td>86.900067</td>\n      <td>99.133233</td>\n      <td>67.998759</td>\n    </tr>\n  </tbody>\n</table>\n<p>6847 rows × 10 columns</p>\n</div>"
     },
     "execution_count": 17,
     "metadata": {},
     "output_type": "execute_result"
    }
   ],
   "source": [
    "data"
   ],
   "metadata": {
    "collapsed": false,
    "ExecuteTime": {
     "start_time": "2023-05-25T14:33:22.073586Z",
     "end_time": "2023-05-25T14:33:22.122455Z"
    }
   }
  },
  {
   "cell_type": "code",
   "execution_count": 20,
   "outputs": [
    {
     "data": {
      "text/plain": "6832"
     },
     "execution_count": 20,
     "metadata": {},
     "output_type": "execute_result"
    }
   ],
   "source": [
    "len(windows)"
   ],
   "metadata": {
    "collapsed": false,
    "ExecuteTime": {
     "start_time": "2023-05-25T14:37:23.797673Z",
     "end_time": "2023-05-25T14:37:23.833573Z"
    }
   }
  },
  {
   "cell_type": "code",
   "execution_count": 15,
   "outputs": [
    {
     "data": {
      "text/plain": "array([[55.  , 80.  , 96.  , 18.5 , 23.1 , 25.3 , 19.2 , 24.55, 29.9 ],\n       [53.  , 78.  , 93.  , 23.2 , 24.9 , 27.6 , 21.  , 26.3 , 31.6 ],\n       [54.  , 83.  , 99.  , 23.3 , 25.  , 29.3 , 20.  , 25.6 , 31.2 ],\n       [55.  , 87.  , 99.  , 22.8 , 24.5 , 27.1 , 18.8 , 24.8 , 30.8 ],\n       [72.  , 87.  , 96.  , 19.2 , 21.3 , 23.2 , 18.8 , 21.3 , 23.8 ],\n       [59.  , 85.  , 96.  , 20.  , 23.5 , 26.1 , 17.  , 23.2 , 29.4 ],\n       [57.  , 84.  , 99.  , 22.8 , 24.9 , 26.8 , 19.4 , 25.  , 30.6 ],\n       [59.  , 80.  , 98.  , 22.5 , 23.5 , 26.1 , 19.6 , 24.45, 29.3 ],\n       [49.  , 79.  , 98.  , 21.4 , 23.  , 25.9 , 18.6 , 24.9 , 31.2 ],\n       [50.  , 81.  , 98.  , 20.4 , 24.2 , 28.1 , 17.8 , 24.85, 31.9 ],\n       [44.  , 79.  , 98.  , 20.8 , 24.1 , 26.1 , 19.4 , 25.9 , 32.4 ],\n       [45.  , 75.  , 98.  , 18.4 , 22.4 , 25.9 , 18.5 , 24.75, 31.  ],\n       [50.  , 78.  , 95.  , 20.4 , 23.5 , 25.4 , 18.6 , 25.25, 31.9 ],\n       [49.  , 77.  , 96.  , 19.2 , 22.3 , 25.6 , 20.5 , 25.65, 30.8 ]])"
     },
     "execution_count": 15,
     "metadata": {},
     "output_type": "execute_result"
    }
   ],
   "source": [
    "inputnn[0]"
   ],
   "metadata": {
    "collapsed": false,
    "ExecuteTime": {
     "start_time": "2023-05-25T14:32:52.822844Z",
     "end_time": "2023-05-25T14:32:52.858748Z"
    }
   }
  },
  {
   "cell_type": "code",
   "execution_count": 19,
   "outputs": [
    {
     "data": {
      "text/plain": "array([[80.  , 23.1 , 24.55],\n       [78.  , 24.9 , 26.3 ],\n       [83.  , 25.  , 25.6 ],\n       [87.  , 24.5 , 24.8 ],\n       [87.  , 21.3 , 21.3 ],\n       [85.  , 23.5 , 23.2 ],\n       [84.  , 24.9 , 25.  ],\n       [80.  , 23.5 , 24.45],\n       [79.  , 23.  , 24.9 ],\n       [81.  , 24.2 , 24.85],\n       [79.  , 24.1 , 25.9 ],\n       [75.  , 22.4 , 24.75],\n       [78.  , 23.5 , 25.25],\n       [77.  , 22.3 , 25.65]])"
     },
     "execution_count": 19,
     "metadata": {},
     "output_type": "execute_result"
    }
   ],
   "source": [
    "windows[0]"
   ],
   "metadata": {
    "collapsed": false,
    "ExecuteTime": {
     "start_time": "2023-05-25T14:35:41.663330Z",
     "end_time": "2023-05-25T14:35:41.703269Z"
    }
   }
  },
  {
   "cell_type": "code",
   "execution_count": 34,
   "outputs": [
    {
     "data": {
      "text/plain": "(6832, 14, 3)"
     },
     "execution_count": 34,
     "metadata": {},
     "output_type": "execute_result"
    }
   ],
   "source": [
    "windows.shape"
   ],
   "metadata": {
    "collapsed": false,
    "ExecuteTime": {
     "start_time": "2023-05-25T14:58:17.295014Z",
     "end_time": "2023-05-25T14:58:17.315200Z"
    }
   }
  },
  {
   "cell_type": "code",
   "execution_count": 49,
   "outputs": [
    {
     "data": {
      "text/plain": "(6833, 14, 9)"
     },
     "execution_count": 49,
     "metadata": {},
     "output_type": "execute_result"
    }
   ],
   "source": [
    "inputnn.shape"
   ],
   "metadata": {
    "collapsed": false,
    "ExecuteTime": {
     "start_time": "2023-05-25T17:01:54.994836Z",
     "end_time": "2023-05-25T17:01:55.024756Z"
    }
   }
  },
  {
   "cell_type": "code",
   "execution_count": 272,
   "outputs": [
    {
     "data": {
      "text/plain": "(4783, 14, 9)"
     },
     "execution_count": 272,
     "metadata": {},
     "output_type": "execute_result"
    }
   ],
   "source": [
    "input_train.shape"
   ],
   "metadata": {
    "collapsed": false,
    "ExecuteTime": {
     "start_time": "2023-05-25T21:12:09.278633Z",
     "end_time": "2023-05-25T21:12:09.340492Z"
    }
   }
  },
  {
   "cell_type": "code",
   "execution_count": 274,
   "outputs": [
    {
     "data": {
      "text/plain": "(4783, 3)"
     },
     "execution_count": 274,
     "metadata": {},
     "output_type": "execute_result"
    }
   ],
   "source": [
    "target_train.shape"
   ],
   "metadata": {
    "collapsed": false,
    "ExecuteTime": {
     "start_time": "2023-05-25T21:13:37.032204Z",
     "end_time": "2023-05-25T21:13:37.053368Z"
    }
   }
  },
  {
   "cell_type": "code",
   "execution_count": 275,
   "outputs": [
    {
     "data": {
      "text/plain": "array([[36.  , 59.  , 82.  , 20.6 , 24.1 , 27.8 , 23.5 , 30.8 , 38.1 ],\n       [28.  , 56.  , 82.  , 18.2 , 23.8 , 28.8 , 23.4 , 31.4 , 39.4 ],\n       [28.  , 55.  , 82.  , 18.3 , 23.5 , 29.5 , 23.4 , 31.5 , 39.6 ],\n       [23.  , 49.  , 87.  , 16.3 , 21.7 , 26.2 , 22.6 , 31.2 , 39.8 ],\n       [20.  , 52.  , 90.  , 15.  , 22.5 , 26.2 , 23.  , 31.65, 40.3 ],\n       [31.  , 52.  , 87.  , 21.9 , 24.5 , 27.3 , 24.  , 32.15, 40.3 ],\n       [30.  , 55.  , 88.  , 20.9 , 24.9 , 28.2 , 24.4 , 32.4 , 40.4 ],\n       [21.  , 58.  , 93.  , 14.2 , 23.9 , 31.5 , 23.9 , 32.5 , 41.1 ],\n       [22.  , 62.  , 87.  , 15.7 , 25.4 , 30.5 , 23.2 , 31.75, 40.3 ],\n       [35.  , 62.  , 89.  , 19.5 , 24.4 , 27.5 , 24.  , 30.5 , 37.  ],\n       [29.  , 58.  , 93.  , 15.9 , 21.7 , 24.5 , 19.2 , 27.65, 36.1 ],\n       [38.  , 61.  , 83.  , 20.3 , 23.9 , 25.9 , 23.9 , 29.95, 36.  ],\n       [31.  , 56.  , 81.  , 21.  , 25.8 , 28.8 , 23.9 , 32.2 , 40.5 ],\n       [26.  , 52.  , 88.  , 19.8 , 26.3 , 31.1 , 26.5 , 34.55, 42.6 ]])"
     },
     "execution_count": 275,
     "metadata": {},
     "output_type": "execute_result"
    }
   ],
   "source": [
    "input_train[0]"
   ],
   "metadata": {
    "collapsed": false,
    "ExecuteTime": {
     "start_time": "2023-05-25T21:14:22.965649Z",
     "end_time": "2023-05-25T21:14:22.999557Z"
    }
   }
  },
  {
   "cell_type": "code",
   "execution_count": 276,
   "outputs": [
    {
     "data": {
      "text/plain": "array([55., 24., 33.])"
     },
     "execution_count": 276,
     "metadata": {},
     "output_type": "execute_result"
    }
   ],
   "source": [
    "target_train[0]"
   ],
   "metadata": {
    "collapsed": false,
    "ExecuteTime": {
     "start_time": "2023-05-25T21:14:27.992940Z",
     "end_time": "2023-05-25T21:14:28.037312Z"
    }
   }
  },
  {
   "cell_type": "code",
   "execution_count": 279,
   "outputs": [
    {
     "data": {
      "text/plain": "array([[54.  , 82.  , 98.  , 28.3 , 30.7 , 34.1 , 23.4 , 29.25, 35.1 ],\n       [55.  , 86.  , 98.  , 29.6 , 32.  , 36.3 , 24.4 , 30.  , 35.6 ],\n       [52.  , 81.  , 97.  , 24.8 , 31.6 , 36.8 , 24.1 , 29.15, 34.2 ],\n       [54.  , 81.  , 98.  , 30.  , 31.7 , 34.5 , 24.4 , 30.1 , 35.8 ],\n       [50.  , 80.  , 98.  , 26.1 , 30.5 , 34.  , 23.9 , 29.15, 34.4 ],\n       [50.  , 79.  , 98.  , 24.4 , 29.1 , 34.8 , 20.  , 27.2 , 34.4 ],\n       [58.  , 79.  , 97.  , 28.  , 30.6 , 33.7 , 24.  , 29.45, 34.9 ],\n       [55.  , 83.  , 98.  , 28.1 , 31.2 , 34.7 , 24.6 , 29.4 , 34.2 ],\n       [58.  , 84.  , 98.  , 27.7 , 30.3 , 34.1 , 22.  , 28.55, 35.1 ],\n       [78.  , 91.  , 98.  , 29.3 , 31.2 , 40.8 , 24.  , 27.35, 30.7 ],\n       [70.  , 89.  , 98.  , 28.  , 31.5 , 36.8 , 22.8 , 28.25, 33.7 ],\n       [70.  , 92.  , 98.  , 28.3 , 30.6 , 34.5 , 22.4 , 27.65, 32.9 ],\n       [69.  , 89.  , 98.  , 28.  , 29.8 , 32.4 , 22.  , 26.7 , 31.4 ],\n       [64.  , 86.  , 98.  , 27.5 , 30.6 , 34.5 , 22.5 , 28.2 , 33.9 ]])"
     },
     "execution_count": 279,
     "metadata": {},
     "output_type": "execute_result"
    }
   ],
   "source": [
    "input_train[1]"
   ],
   "metadata": {
    "collapsed": false,
    "ExecuteTime": {
     "start_time": "2023-05-25T21:15:30.162300Z",
     "end_time": "2023-05-25T21:15:30.216100Z"
    }
   }
  },
  {
   "cell_type": "code",
   "execution_count": 269,
   "outputs": [],
   "source": [
    "global nonOutputColumns, windowsLen, componentsLen, windowLen, titleColumns, smoothnessFactor, punishedSumFactor, finalWindowNumber, explicationMethodResult, windows, targetWindow, titleIndexes\n",
    "nonOutputColumns = [0, 2, 3, 5, 6, 8]\n",
    "# nonOutputColumns = []\n",
    "windows = np.delete(input_train, nonOutputColumns, 2)\n",
    "targetWindow, windows = windows[-1], windows[:-1]\n",
    "windowsLen = len(windows)\n",
    "componentsLen = windows.shape[2]\n",
    "windowLen = windows.shape[1]\n",
    "titleColumns = [\"Humidity\", \"Vapor Pressure\", \"Temperature\"]\n",
    "titleIndexes = [\"Window Index {0}\".format(index) for index in range(windowsLen)]\n",
    "smoothnessFactor = .18\n",
    "punishedSumFactor = .5\n",
    "finalWindowNumber = 30\n",
    "# 0 number of results, 1 average, 2 Max values, 3 min values, 4 median\n",
    "explicationMethodResult = 2"
   ],
   "metadata": {
    "collapsed": false,
    "ExecuteTime": {
     "start_time": "2023-05-25T21:10:34.035638Z",
     "end_time": "2023-05-25T21:10:34.077767Z"
    }
   }
  },
  {
   "cell_type": "code",
   "execution_count": 268,
   "outputs": [
    {
     "name": "stderr",
     "output_type": "stream",
     "text": [
      "D:\\programas\\Python310\\lib\\site-packages\\numpy\\lib\\function_base.py:2853: RuntimeWarning: invalid value encountered in divide\n",
      "  c /= stddev[:, None]\n",
      "D:\\programas\\Python310\\lib\\site-packages\\numpy\\lib\\function_base.py:2854: RuntimeWarning: invalid value encountered in divide\n",
      "  c /= stddev[None, :]\n"
     ]
    }
   ],
   "source": [
    "pearsonCorrelation = np.array(\n",
    "    ([np.corrcoef(windows[currentWindow, :, currentComponent], targetWindow[:, currentComponent])[0][1]\n",
    "      for currentWindow in range(len(windows)) for currentComponent in range(componentsLen)])).reshape(-1,\n",
    "                                                                                                       componentsLen)"
   ],
   "metadata": {
    "collapsed": false,
    "ExecuteTime": {
     "start_time": "2023-05-25T21:10:22.989381Z",
     "end_time": "2023-05-25T21:10:30.976497Z"
    }
   }
  },
  {
   "cell_type": "code",
   "execution_count": 173,
   "outputs": [],
   "source": [
    "euclideanDistance = np.array(\n",
    "    ([np.linalg.norm(targetWindow[:, currentComponent] - windows[currentWindow, :, currentComponent])\n",
    "      for currentWindow in range(windowsLen) for currentComponent in range(componentsLen)])).reshape(-1,\n",
    "                                                                                                     componentsLen)"
   ],
   "metadata": {
    "collapsed": false,
    "ExecuteTime": {
     "start_time": "2023-05-25T17:49:37.242449Z",
     "end_time": "2023-05-25T17:49:37.401025Z"
    }
   }
  },
  {
   "cell_type": "code",
   "execution_count": 234,
   "outputs": [
    {
     "data": {
      "text/plain": "4782"
     },
     "execution_count": 234,
     "metadata": {},
     "output_type": "execute_result"
    }
   ],
   "source": [
    "len(windows)"
   ],
   "metadata": {
    "collapsed": false,
    "ExecuteTime": {
     "start_time": "2023-05-25T19:37:33.968218Z",
     "end_time": "2023-05-25T19:37:34.023076Z"
    }
   }
  },
  {
   "cell_type": "code",
   "execution_count": 171,
   "outputs": [
    {
     "data": {
      "text/plain": "array([[-0.40263033,  0.7789977 ,  0.0373831 ],\n       [-0.82739213, -0.54678104, -0.58918064],\n       [ 0.09347252,  0.48120441,  0.01137944],\n       ...,\n       [-0.09248303,  0.33427187, -0.37988733],\n       [-0.72024855, -0.45656119, -0.31879646],\n       [ 0.7789251 ,  0.39017821, -0.1945742 ]])"
     },
     "execution_count": 171,
     "metadata": {},
     "output_type": "execute_result"
    }
   ],
   "source": [
    "pearsonCorrelation"
   ],
   "metadata": {
    "collapsed": false,
    "ExecuteTime": {
     "start_time": "2023-05-25T17:49:13.212072Z",
     "end_time": "2023-05-25T17:49:13.249208Z"
    }
   }
  },
  {
   "cell_type": "code",
   "execution_count": 174,
   "outputs": [
    {
     "data": {
      "text/plain": "array([[65.87867637,  8.16088231, 13.85126348],\n       [56.20498199, 22.72443619, 10.4133328 ],\n       [45.68369512, 17.19505743, 14.4906004 ],\n       ...,\n       [33.33166662,  9.69226496, 13.49064491],\n       [53.29165038, 18.12043046, 12.86536047],\n       [21.49418526, 12.7522547 ,  8.84024887]])"
     },
     "execution_count": 174,
     "metadata": {},
     "output_type": "execute_result"
    }
   ],
   "source": [
    "euclideanDistance"
   ],
   "metadata": {
    "collapsed": false,
    "ExecuteTime": {
     "start_time": "2023-05-25T17:49:43.949905Z",
     "end_time": "2023-05-25T17:49:43.964863Z"
    }
   }
  },
  {
   "cell_type": "code",
   "execution_count": 175,
   "outputs": [],
   "source": [
    "normalizedEuclideanDistance = euclideanDistance / np.amax(euclideanDistance, axis=0)"
   ],
   "metadata": {
    "collapsed": false,
    "ExecuteTime": {
     "start_time": "2023-05-25T17:50:58.341311Z",
     "end_time": "2023-05-25T17:50:58.403229Z"
    }
   }
  },
  {
   "cell_type": "code",
   "execution_count": 176,
   "outputs": [
    {
     "data": {
      "text/plain": "array([[0.36605174, 0.18415899, 0.38622859],\n       [0.31230032, 0.51280108, 0.29036534],\n       [0.25383928, 0.38802476, 0.40405586],\n       ...,\n       [0.18520582, 0.21871627, 0.37617311],\n       [0.29611253, 0.40890679, 0.35873768],\n       [0.11943142, 0.28776819, 0.24650148]])"
     },
     "execution_count": 176,
     "metadata": {},
     "output_type": "execute_result"
    }
   ],
   "source": [
    "normalizedEuclideanDistance"
   ],
   "metadata": {
    "collapsed": false,
    "ExecuteTime": {
     "start_time": "2023-05-25T17:51:00.459120Z",
     "end_time": "2023-05-25T17:51:00.477067Z"
    }
   }
  },
  {
   "cell_type": "code",
   "execution_count": 178,
   "outputs": [],
   "source": [
    "normalizedCorrelation = (.5 + (pearsonCorrelation - 2 * normalizedEuclideanDistance + 1) / 4)"
   ],
   "metadata": {
    "collapsed": false,
    "ExecuteTime": {
     "start_time": "2023-05-25T17:52:14.784617Z",
     "end_time": "2023-05-25T17:52:14.829497Z"
    }
   }
  },
  {
   "cell_type": "code",
   "execution_count": 179,
   "outputs": [
    {
     "data": {
      "text/plain": "array([[0.46631655, 0.85266993, 0.56623148],\n       [0.38700181, 0.3569042 , 0.45752217],\n       [0.64644849, 0.67628872, 0.55081693],\n       ...,\n       [0.63427633, 0.72420983, 0.46694161],\n       [0.4218816 , 0.43140631, 0.49093205],\n       [0.88501556, 0.70366046, 0.57810571]])"
     },
     "execution_count": 179,
     "metadata": {},
     "output_type": "execute_result"
    }
   ],
   "source": [
    "normalizedCorrelation"
   ],
   "metadata": {
    "collapsed": false,
    "ExecuteTime": {
     "start_time": "2023-05-25T17:52:15.512671Z",
     "end_time": "2023-05-25T17:52:15.598439Z"
    }
   }
  },
  {
   "cell_type": "code",
   "execution_count": 192,
   "outputs": [
    {
     "data": {
      "text/plain": "3.9003331762733757"
     },
     "execution_count": 192,
     "metadata": {},
     "output_type": "execute_result"
    }
   ],
   "source": [
    "np.sum((normalizedCorrelation[0] + .5) ** 2)"
   ],
   "metadata": {
    "collapsed": false,
    "ExecuteTime": {
     "start_time": "2023-05-25T17:57:11.554741Z",
     "end_time": "2023-05-25T17:57:11.579707Z"
    }
   }
  },
  {
   "cell_type": "code",
   "execution_count": 184,
   "outputs": [],
   "source": [
    "correlationPerWindow = np.sum(((normalizedCorrelation + punishedSumFactor) ** 2), axis=1)"
   ],
   "metadata": {
    "collapsed": false,
    "ExecuteTime": {
     "start_time": "2023-05-25T17:54:46.169947Z",
     "end_time": "2023-05-25T17:54:46.187897Z"
    }
   }
  },
  {
   "cell_type": "code",
   "execution_count": 231,
   "outputs": [
    {
     "data": {
      "text/plain": "0.9312020842399963"
     },
     "execution_count": 231,
     "metadata": {},
     "output_type": "execute_result"
    }
   ],
   "source": [
    "np.max(normalizedCorrelation)"
   ],
   "metadata": {
    "collapsed": false,
    "ExecuteTime": {
     "start_time": "2023-05-25T18:09:44.273992Z",
     "end_time": "2023-05-25T18:09:44.311221Z"
    }
   }
  },
  {
   "cell_type": "code",
   "execution_count": 232,
   "outputs": [
    {
     "data": {
      "text/plain": "array([[0.46631655, 0.85266993, 0.56623148],\n       [0.38700181, 0.3569042 , 0.45752217],\n       [0.64644849, 0.67628872, 0.55081693],\n       ...,\n       [0.63427633, 0.72420983, 0.46694161],\n       [0.4218816 , 0.43140631, 0.49093205],\n       [0.88501556, 0.70366046, 0.57810571]])"
     },
     "execution_count": 232,
     "metadata": {},
     "output_type": "execute_result"
    }
   ],
   "source": [
    "normalizedCorrelation"
   ],
   "metadata": {
    "collapsed": false,
    "ExecuteTime": {
     "start_time": "2023-05-25T18:11:01.732344Z",
     "end_time": "2023-05-25T18:11:01.750305Z"
    }
   }
  },
  {
   "cell_type": "code",
   "execution_count": 264,
   "outputs": [
    {
     "data": {
      "text/plain": "[(2015, 1.0),\n (936, 0.9741654428488112),\n (3559, 0.9664450647204368),\n (3216, 0.9423685175789085)]"
     },
     "execution_count": 264,
     "metadata": {},
     "output_type": "execute_result"
    }
   ],
   "source": [
    "correlationPerWindow"
   ],
   "metadata": {
    "collapsed": false,
    "ExecuteTime": {
     "start_time": "2023-05-25T21:08:17.458334Z",
     "end_time": "2023-05-25T21:08:17.490279Z"
    }
   }
  },
  {
   "cell_type": "code",
   "execution_count": 270,
   "outputs": [],
   "source": [
    "def explain(data, model):\n",
    "    prediction_train = model.predict(input_train)\n",
    "    RMSE = math.sqrt(np.square(np.subtract(prediction_train, target_train)).mean())\n",
    "    print(\"Root Mean Square Error Train:\\n\", RMSE)\n",
    "    prediction = model.predict(input_test)\n",
    "    global actualPrediction\n",
    "    actualPrediction = prediction[-1]\n",
    "    RMSE = math.sqrt(np.square(np.subtract(prediction, target_test)).mean())\n",
    "    print(\"Root Mean Square Error Test:\\n\", RMSE)\n",
    "\n",
    "    pearsonCorrelation = np.array(\n",
    "        ([np.corrcoef(windows[currentWindow, :, currentComponent], targetWindow[:, currentComponent])[0][1]\n",
    "          for currentWindow in range(len(windows)) for currentComponent in range(componentsLen)])).reshape(-1,\n",
    "                                                                                                           componentsLen)\n",
    "    euclideanDistance = np.array(\n",
    "        ([np.linalg.norm(targetWindow[:, currentComponent] - windows[currentWindow, :, currentComponent])\n",
    "          for currentWindow in range(windowsLen) for currentComponent in range(componentsLen)])).reshape(-1,\n",
    "                                                                                                         componentsLen)\n",
    "    global normalizedCorrelation\n",
    "    normalizedEuclideanDistance = euclideanDistance / np.amax(euclideanDistance, axis=0)\n",
    "    normalizedCorrelation = (.5 + (pearsonCorrelation - 2 * normalizedEuclideanDistance + 1) / 4)\n",
    "    global correlationPerWindow\n",
    "    correlationPerWindow = np.sum(((normalizedCorrelation + punishedSumFactor) ** 2), axis=1)\n",
    "    correlationPerWindow /= max(correlationPerWindow)\n",
    "    global smoothedCorrelation\n",
    "    smoothedCorrelation = lowess(correlationPerWindow, np.arange(len(correlationPerWindow)), smoothnessFactor)[:, 1]\n",
    "    df_loess_3 = pd.DataFrame(smoothedCorrelation)\n",
    "    valleyIndex, peakIndex = signal.argrelextrema(smoothedCorrelation, np.less)[0], \\\n",
    "        signal.argrelextrema(smoothedCorrelation, np.greater)[0]\n",
    "\n",
    "    concaveSegments = np.split(np.transpose(np.array((np.arange(windowsLen), correlationPerWindow))), valleyIndex)\n",
    "    convexSegments = np.split(np.transpose(np.array((np.arange(windowsLen), correlationPerWindow))), peakIndex)\n",
    "\n",
    "    bestWindowsIndex, worstWindowsIndex = list(), list()\n",
    "\n",
    "    for split in concaveSegments:\n",
    "        bestWindowsIndex.append(int(split[np.where(split == max(split[:, 1]))[0][0], 0]))\n",
    "    for split in convexSegments:\n",
    "        worstWindowsIndex.append(int(split[np.where(split == min(split[:, 1]))[0][0], 0]))\n",
    "\n",
    "    bestDic = {index: correlationPerWindow[index] for index in bestWindowsIndex}\n",
    "    worstDic = {index: correlationPerWindow[index] for index in worstWindowsIndex}\n",
    "    global bestSorted, worstSorted\n",
    "    bestSorted = sorted(bestDic.items(), reverse=True, key=lambda x: x[1])\n",
    "    print(\"best\", len(bestSorted))\n",
    "    print(\"worst\", len(worstDic))\n",
    "    worstSorted = sorted(worstDic.items(), key=lambda x: x[1])\n",
    "\n",
    "    bestSorted = bestSorted[0:4]\n",
    "    worstSorted = worstSorted[0:4]\n",
    "\n",
    "    global maxComp, minComp, lims\n",
    "    maxComp, minComp, lims = [], [], []\n",
    "    for i in range(componentsLen):\n",
    "        maxComp.append(int(max(max(a) for a in windows[:, :, i])))\n",
    "        minComp.append(int(min(min(a) for a in windows[:, :, i])))\n",
    "        lims.append(range(minComp[i], maxComp[i], int((maxComp[i] - minComp[i]) / 8)))\n",
    "\n",
    "    bestMAE, worstMAE = [], []\n",
    "    for i in range(len(bestSorted)):\n",
    "        rawBestMAE = rawWorstMAE = 0\n",
    "        for f in range(componentsLen):\n",
    "            rawBestMAE += (windows[bestSorted[i][0]][windowLen - 1][f] - minComp[f]) / maxComp[f]\n",
    "            rawWorstMAE += (windows[worstSorted[i][0]][windowLen - 1][f] - minComp[f]) / maxComp[f]\n",
    "        bestMAE.append(rawBestMAE / componentsLen)\n",
    "        worstMAE.append(rawWorstMAE / componentsLen)\n",
    "\n",
    "    d = {'index': dict(bestSorted).keys(), 'CCI': dict(bestSorted).values(), \"MAE\": bestMAE,\n",
    "         'index.1': dict(worstSorted).keys(), 'CCI.1': dict(worstSorted).values(), \"MAE.1\": worstMAE}\n",
    "    df = pd.DataFrame(data=d)\n",
    "    print(df)\n",
    "    global cont\n",
    "    cont = np.arange(1, windowLen + 1)\n",
    "    if explicationMethodResult == 0:\n",
    "        notCombinedOption()\n",
    "    else:\n",
    "        combinedOption()\n",
    "    pass\n",
    "\n",
    "\n",
    "def notCombinedOption():\n",
    "    for i in range(len(bestSorted)):\n",
    "        plt.figure(figsize=(12, 8))\n",
    "        for f in range(componentsLen):\n",
    "            plt.subplot(componentsLen, 1, f + 1)\n",
    "            plt.title(titleColumns[f])\n",
    "            plt.plot(cont, targetWindow[:, f], '.-k', label=\"Target\")\n",
    "            plt.plot(cont, windows[bestSorted[i][0], :, f], '.-g', label=\"Data\")\n",
    "            plt.plot(windowLen + 1, actualPrediction[f], 'dk', label=\"Prediction\")\n",
    "            plt.plot(windowLen + 1, windows[bestSorted[i][0]][windowLen - 1][f], 'dg', label=\"Next day\")\n",
    "            plt.grid()\n",
    "            plt.xticks(range(1, windowLen + 2, 1))\n",
    "            plt.yticks(lims[f])\n",
    "        plt.tight_layout()\n",
    "        plt.show()\n",
    "\n",
    "\n",
    "def subOptions(op):\n",
    "    if op == 1:\n",
    "        newCase = np.sum(windows[list(dict(bestSorted).keys())], axis=0) / len(bestSorted)\n",
    "    elif op == 2:\n",
    "        newCase = np.max(windows[list(dict(bestSorted).keys())], axis=0)\n",
    "    elif op == 3:\n",
    "        newCase = np.min(windows[list(dict(bestSorted).keys())], axis=0)\n",
    "    elif op == 4:\n",
    "        newCase = np.median(windows[list(dict(bestSorted).keys())], axis=0)\n",
    "    return newCase\n",
    "\n",
    "\n",
    "def combinedOption():\n",
    "    plt.figure(figsize=(12, 8))\n",
    "    newCase = np.zeros((windowLen, componentsLen))\n",
    "    try:\n",
    "        newCase = subOptions(explicationMethodResult)\n",
    "    except:\n",
    "        print(\"Unavailable option\")\n",
    "    for f in range(componentsLen):\n",
    "        plt.subplot(componentsLen, 1, f + 1)\n",
    "        plt.title(titleColumns[f])\n",
    "        plt.plot(cont, targetWindow[:, f], '.-k', label=\"Target\")\n",
    "        plt.plot(cont, newCase[:, f], '.-g', label=\"Data\")\n",
    "        plt.plot(windowLen + 1, actualPrediction[f], 'dk', label=\"Prediction\")\n",
    "        plt.plot(windowLen + 1, newCase[windowLen - 1][f], 'dg', label=\"Next day\")\n",
    "        plt.grid()\n",
    "        plt.xticks(range(1, windowLen + 2, 1))\n",
    "        plt.yticks(lims[f])\n",
    "    plt.tight_layout()\n",
    "    plt.show()"
   ],
   "metadata": {
    "collapsed": false,
    "ExecuteTime": {
     "start_time": "2023-05-25T21:10:38.667708Z",
     "end_time": "2023-05-25T21:10:38.697447Z"
    }
   }
  },
  {
   "cell_type": "code",
   "execution_count": 271,
   "outputs": [
    {
     "name": "stdout",
     "output_type": "stream",
     "text": [
      "150/150 [==============================] - 2s 12ms/step\n",
      "Root Mean Square Error Train:\n",
      " 4.568492858440676\n",
      "65/65 [==============================] - 0s 7ms/step\n",
      "Root Mean Square Error Test:\n",
      " 4.611823881988127\n"
     ]
    },
    {
     "name": "stderr",
     "output_type": "stream",
     "text": [
      "D:\\programas\\Python310\\lib\\site-packages\\numpy\\lib\\function_base.py:2853: RuntimeWarning: invalid value encountered in divide\n",
      "  c /= stddev[:, None]\n",
      "D:\\programas\\Python310\\lib\\site-packages\\numpy\\lib\\function_base.py:2854: RuntimeWarning: invalid value encountered in divide\n",
      "  c /= stddev[None, :]\n"
     ]
    },
    {
     "name": "stdout",
     "output_type": "stream",
     "text": [
      "best 11\n",
      "worst 12\n",
      "   index       CCI       MAE  index.1     CCI.1     MAE.1\n",
      "0   2015  1.000000  0.407620     3417  0.395143  0.229981\n",
      "1   3425  0.987604  0.440760     1475  0.427496  0.205188\n",
      "2   1836  0.985474  0.353731      173  0.439575  0.299280\n",
      "3   4558  0.968548  0.434923     4505  0.441753  0.271840\n"
     ]
    },
    {
     "ename": "IndexError",
     "evalue": "list index out of range",
     "output_type": "error",
     "traceback": [
      "\u001B[1;31m---------------------------------------------------------------------------\u001B[0m",
      "\u001B[1;31mIndexError\u001B[0m                                Traceback (most recent call last)",
      "Cell \u001B[1;32mIn [271], line 1\u001B[0m\n\u001B[1;32m----> 1\u001B[0m \u001B[43mexplain\u001B[49m\u001B[43m(\u001B[49m\u001B[43mdata\u001B[49m\u001B[43m,\u001B[49m\u001B[43m \u001B[49m\u001B[43mmodel\u001B[49m\u001B[43m)\u001B[49m\n",
      "Cell \u001B[1;32mIn [270], line 77\u001B[0m, in \u001B[0;36mexplain\u001B[1;34m(data, model)\u001B[0m\n\u001B[0;32m     75\u001B[0m     notCombinedOption()\n\u001B[0;32m     76\u001B[0m \u001B[38;5;28;01melse\u001B[39;00m:\n\u001B[1;32m---> 77\u001B[0m     \u001B[43mcombinedOption\u001B[49m\u001B[43m(\u001B[49m\u001B[43m)\u001B[49m\n\u001B[0;32m     78\u001B[0m \u001B[38;5;28;01mpass\u001B[39;00m\n",
      "Cell \u001B[1;32mIn [270], line 119\u001B[0m, in \u001B[0;36mcombinedOption\u001B[1;34m()\u001B[0m\n\u001B[0;32m    117\u001B[0m \u001B[38;5;28;01mfor\u001B[39;00m f \u001B[38;5;129;01min\u001B[39;00m \u001B[38;5;28mrange\u001B[39m(componentsLen):\n\u001B[0;32m    118\u001B[0m     plt\u001B[38;5;241m.\u001B[39msubplot(componentsLen, \u001B[38;5;241m1\u001B[39m, f \u001B[38;5;241m+\u001B[39m \u001B[38;5;241m1\u001B[39m)\n\u001B[1;32m--> 119\u001B[0m     plt\u001B[38;5;241m.\u001B[39mtitle(\u001B[43mtitleColumns\u001B[49m\u001B[43m[\u001B[49m\u001B[43mf\u001B[49m\u001B[43m]\u001B[49m)\n\u001B[0;32m    120\u001B[0m     plt\u001B[38;5;241m.\u001B[39mplot(cont, targetWindow[:, f], \u001B[38;5;124m'\u001B[39m\u001B[38;5;124m.-k\u001B[39m\u001B[38;5;124m'\u001B[39m, label\u001B[38;5;241m=\u001B[39m\u001B[38;5;124m\"\u001B[39m\u001B[38;5;124mTarget\u001B[39m\u001B[38;5;124m\"\u001B[39m)\n\u001B[0;32m    121\u001B[0m     plt\u001B[38;5;241m.\u001B[39mplot(cont, newCase[:, f], \u001B[38;5;124m'\u001B[39m\u001B[38;5;124m.-g\u001B[39m\u001B[38;5;124m'\u001B[39m, label\u001B[38;5;241m=\u001B[39m\u001B[38;5;124m\"\u001B[39m\u001B[38;5;124mData\u001B[39m\u001B[38;5;124m\"\u001B[39m)\n",
      "\u001B[1;31mIndexError\u001B[0m: list index out of range"
     ]
    },
    {
     "data": {
      "text/plain": "<Figure size 1200x800 with 4 Axes>",
      "image/png": "[encoded data removed]"
     },
     "metadata": {},
     "output_type": "display_data"
    }
   ],
   "source": [
    "explain(data, model)"
   ],
   "metadata": {
    "collapsed": false,
    "ExecuteTime": {
     "start_time": "2023-05-25T21:09:17.245132Z",
     "end_time": "2023-05-25T21:09:27.387751Z"
    }
   }
  },
  {
   "cell_type": "code",
   "execution_count": null,
   "outputs": [],
   "source": [
    "explain(data, model)"
   ],
   "metadata": {
    "collapsed": false,
    "ExecuteTime": {
     "start_time": "2023-05-25T16:49:19.030554Z",
     "end_time": "2023-05-25T16:49:28.598977Z"
    }
   }
  },
  {
   "cell_type": "code",
   "execution_count": 13,
   "outputs": [
    {
     "data": {
      "text/plain": "                 DATE  TEMP_MAX  TEMP_MIN  TEMP_AVG   PRES_AVG   PRES_MAX  \\\nMONTH                                                                       \nJANUARY    2000-01-01      29.9      19.2     24.55  23.100000  25.300000   \nJANUARY    2000-01-02      31.6      21.0     26.30  24.900000  27.600000   \nJANUARY    2000-01-03      31.2      20.0     25.60  25.000000  29.300000   \nJANUARY    2000-01-04      30.8      18.8     24.80  24.500000  27.100000   \nJANUARY    2000-01-05      23.8      18.8     21.30  21.300000  23.200000   \n...               ...       ...       ...       ...        ...        ...   \nSEPTEMBER  2018-09-25      35.2      24.6     29.90  33.605244  39.293133   \nSEPTEMBER  2018-09-26      35.7      24.8     30.25  33.215072  38.461184   \nSEPTEMBER  2018-09-27      34.5      24.7     29.60  33.329421  39.033815   \nSEPTEMBER  2018-09-28      35.7      24.3     30.00  32.920117  36.891677   \nSEPTEMBER  2018-09-29      33.7      24.6     29.15  31.667352  36.651310   \n\n            PRES_MIN    HUM_AVG    HUM_MAX    HUM_MIN  \nMONTH                                                  \nJANUARY    18.500000  80.000000  96.000000  55.000000  \nJANUARY    23.200000  78.000000  93.000000  53.000000  \nJANUARY    23.300000  83.000000  99.000000  54.000000  \nJANUARY    22.800000  87.000000  99.000000  55.000000  \nJANUARY    19.200000  87.000000  96.000000  72.000000  \n...              ...        ...        ...        ...  \nSEPTEMBER  29.971286  85.807829  96.598891  66.220121  \nSEPTEMBER  30.121252  84.474650  95.796130  65.107947  \nSEPTEMBER  30.356106  87.932543  98.304236  71.282447  \nSEPTEMBER  29.971249  83.763597  96.606045  61.513092  \nSEPTEMBER  28.657002  86.900067  99.133233  67.998759  \n\n[6847 rows x 10 columns]",
      "text/html": "<div>\n<style scoped>\n    .dataframe tbody tr th:only-of-type {\n        vertical-align: middle;\n    }\n\n    .dataframe tbody tr th {\n        vertical-align: top;\n    }\n\n    .dataframe thead th {\n        text-align: right;\n    }\n</style>\n<table border=\"1\" class=\"dataframe\">\n  <thead>\n    <tr style=\"text-align: right;\">\n      <th></th>\n      <th>DATE</th>\n      <th>TEMP_MAX</th>\n      <th>TEMP_MIN</th>\n      <th>TEMP_AVG</th>\n      <th>PRES_AVG</th>\n      <th>PRES_MAX</th>\n      <th>PRES_MIN</th>\n      <th>HUM_AVG</th>\n      <th>HUM_MAX</th>\n      <th>HUM_MIN</th>\n    </tr>\n    <tr>\n      <th>MONTH</th>\n      <th></th>\n      <th></th>\n      <th></th>\n      <th></th>\n      <th></th>\n      <th></th>\n      <th></th>\n      <th></th>\n      <th></th>\n      <th></th>\n    </tr>\n  </thead>\n  <tbody>\n    <tr>\n      <th>JANUARY</th>\n      <td>2000-01-01</td>\n      <td>29.9</td>\n      <td>19.2</td>\n      <td>24.55</td>\n      <td>23.100000</td>\n      <td>25.300000</td>\n      <td>18.500000</td>\n      <td>80.000000</td>\n      <td>96.000000</td>\n      <td>55.000000</td>\n    </tr>\n    <tr>\n      <th>JANUARY</th>\n      <td>2000-01-02</td>\n      <td>31.6</td>\n      <td>21.0</td>\n      <td>26.30</td>\n      <td>24.900000</td>\n      <td>27.600000</td>\n      <td>23.200000</td>\n      <td>78.000000</td>\n      <td>93.000000</td>\n      <td>53.000000</td>\n    </tr>\n    <tr>\n      <th>JANUARY</th>\n      <td>2000-01-03</td>\n      <td>31.2</td>\n      <td>20.0</td>\n      <td>25.60</td>\n      <td>25.000000</td>\n      <td>29.300000</td>\n      <td>23.300000</td>\n      <td>83.000000</td>\n      <td>99.000000</td>\n      <td>54.000000</td>\n    </tr>\n    <tr>\n      <th>JANUARY</th>\n      <td>2000-01-04</td>\n      <td>30.8</td>\n      <td>18.8</td>\n      <td>24.80</td>\n      <td>24.500000</td>\n      <td>27.100000</td>\n      <td>22.800000</td>\n      <td>87.000000</td>\n      <td>99.000000</td>\n      <td>55.000000</td>\n    </tr>\n    <tr>\n      <th>JANUARY</th>\n      <td>2000-01-05</td>\n      <td>23.8</td>\n      <td>18.8</td>\n      <td>21.30</td>\n      <td>21.300000</td>\n      <td>23.200000</td>\n      <td>19.200000</td>\n      <td>87.000000</td>\n      <td>96.000000</td>\n      <td>72.000000</td>\n    </tr>\n    <tr>\n      <th>...</th>\n      <td>...</td>\n      <td>...</td>\n      <td>...</td>\n      <td>...</td>\n      <td>...</td>\n      <td>...</td>\n      <td>...</td>\n      <td>...</td>\n      <td>...</td>\n      <td>...</td>\n    </tr>\n    <tr>\n      <th>SEPTEMBER</th>\n      <td>2018-09-25</td>\n      <td>35.2</td>\n      <td>24.6</td>\n      <td>29.90</td>\n      <td>33.605244</td>\n      <td>39.293133</td>\n      <td>29.971286</td>\n      <td>85.807829</td>\n      <td>96.598891</td>\n      <td>66.220121</td>\n    </tr>\n    <tr>\n      <th>SEPTEMBER</th>\n      <td>2018-09-26</td>\n      <td>35.7</td>\n      <td>24.8</td>\n      <td>30.25</td>\n      <td>33.215072</td>\n      <td>38.461184</td>\n      <td>30.121252</td>\n      <td>84.474650</td>\n      <td>95.796130</td>\n      <td>65.107947</td>\n    </tr>\n    <tr>\n      <th>SEPTEMBER</th>\n      <td>2018-09-27</td>\n      <td>34.5</td>\n      <td>24.7</td>\n      <td>29.60</td>\n      <td>33.329421</td>\n      <td>39.033815</td>\n      <td>30.356106</td>\n      <td>87.932543</td>\n      <td>98.304236</td>\n      <td>71.282447</td>\n    </tr>\n    <tr>\n      <th>SEPTEMBER</th>\n      <td>2018-09-28</td>\n      <td>35.7</td>\n      <td>24.3</td>\n      <td>30.00</td>\n      <td>32.920117</td>\n      <td>36.891677</td>\n      <td>29.971249</td>\n      <td>83.763597</td>\n      <td>96.606045</td>\n      <td>61.513092</td>\n    </tr>\n    <tr>\n      <th>SEPTEMBER</th>\n      <td>2018-09-29</td>\n      <td>33.7</td>\n      <td>24.6</td>\n      <td>29.15</td>\n      <td>31.667352</td>\n      <td>36.651310</td>\n      <td>28.657002</td>\n      <td>86.900067</td>\n      <td>99.133233</td>\n      <td>67.998759</td>\n    </tr>\n  </tbody>\n</table>\n<p>6847 rows × 10 columns</p>\n</div>"
     },
     "execution_count": 13,
     "metadata": {},
     "output_type": "execute_result"
    }
   ],
   "source": [
    "data"
   ],
   "metadata": {
    "collapsed": false,
    "ExecuteTime": {
     "start_time": "2023-05-25T13:44:23.667579Z",
     "end_time": "2023-05-25T13:44:23.729413Z"
    }
   }
  }
 ],
 "metadata": {
  "kernelspec": {
   "display_name": "Python 3",
   "language": "python",
   "name": "python3"
  },
  "language_info": {
   "codemirror_mode": {
    "name": "ipython",
    "version": 2
   },
   "file_extension": ".py",
   "mimetype": "text/x-python",
   "name": "python",
   "nbconvert_exporter": "python",
   "pygments_lexer": "ipython2",
   "version": "2.7.6"
  }
 },
 "nbformat": 4,
 "nbformat_minor": 0
}
